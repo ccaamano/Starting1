{
 "cells": [
  {
   "cell_type": "code",
   "execution_count": 11,
   "id": "2a911455",
   "metadata": {},
   "outputs": [],
   "source": [
    "#Create the files\n",
    "\n",
    "from random import randint as rnd\n",
    "\n",
    "memReg=r\"C:\\Users\\CarlosCaamano\\OneDrive - DINGO\\Documents\\DATA ANALYTICS\\Learning\\Open_Write files_Test\\members.txt\"\n",
    "exReg=r\"C:\\Users\\CarlosCaamano\\OneDrive - DINGO\\Documents\\DATA ANALYTICS\\Learning\\Open_Write files_Test\\inactive.txt\"\n",
    "fee=(\"yes\",\"no\")\n",
    "\n",
    "def genFiles(current,old):\n",
    "    with open(current,\"w+\") as writefile:\n",
    "        writefile.write('Membership No  Date Joined  Active  \\n')\n",
    "        data=\"{:^13}  {:<11}  {:<6}\\n\"\n",
    "        \n",
    "        for rowno in range(20):\n",
    "            date=str(rnd(2015,2020))+\"-\"+str(rnd(1,12))+\"-\"+str(rnd(1,25))\n",
    "            writefile.write(data.format(rnd(100000,999999),date,fee[rnd(0,1)]))\n",
    "            \n",
    "    with open(old,\"w+\") as writefile:\n",
    "        writefile.write('Membership No  Date Joined  Active  \\n')\n",
    "        data=\"{:^13}  {:<11}  {:<6}\\n\"\n",
    "        \n",
    "        for rowno in range(3):\n",
    "            date=str(rnd(2015,2020))+\"-\"+str(rnd(1,12))+\"-\"+str(rnd(1,25))\n",
    "            writefile.write(data.format(rnd(100000,999999),date,fee[1]))\n",
    "            \n",
    "genFiles(memReg,exReg)"
   ]
  },
  {
   "cell_type": "code",
   "execution_count": 5,
   "id": "051dddb7",
   "metadata": {},
   "outputs": [],
   "source": [
    "#Look for inactive members and remove from current to move them to old\n",
    "memReg=r\"C:\\Users\\CarlosCaamano\\OneDrive - DINGO\\Documents\\DATA ANALYTICS\\Learning\\Open_Write files_Test\\members.txt\"\n",
    "exReg=r\"C:\\Users\\CarlosCaamano\\OneDrive - DINGO\\Documents\\DATA ANALYTICS\\Learning\\Open_Write files_Test\\inactive.txt\"\n",
    "def cleanFiles(currentMem,exMem):\n",
    "    with open(currentMem,\"r+\") as readfile:\n",
    "        with open(exMem,\"a+\") as appendfile:\n",
    "        \n",
    "            members_list=readfile.readlines() #List with the information in \"members\"\n",
    "        \n",
    "            #move to the top of the file and eliminate all the information except the header.\n",
    "            readfile.seek(37,0)\n",
    "            readfile.truncate()\n",
    "        \n",
    "            for line in members_list:\n",
    "                if line=='Membership No  Date Joined  Active  \\n':\n",
    "                    continue\n",
    "                if \"no\" in line:\n",
    "                    appendfile.write(line)\n",
    "                else:\n",
    "                    readfile.write(line)\n",
    "\n",
    "cleanFiles(memReg,exReg)\n",
    "                "
   ]
  }
 ],
 "metadata": {
  "kernelspec": {
   "display_name": "Python 3 (ipykernel)",
   "language": "python",
   "name": "python3"
  },
  "language_info": {
   "codemirror_mode": {
    "name": "ipython",
    "version": 3
   },
   "file_extension": ".py",
   "mimetype": "text/x-python",
   "name": "python",
   "nbconvert_exporter": "python",
   "pygments_lexer": "ipython3",
   "version": "3.11.1"
  }
 },
 "nbformat": 4,
 "nbformat_minor": 5
}
